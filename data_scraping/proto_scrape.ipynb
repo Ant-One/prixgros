{
 "cells": [
  {
   "cell_type": "code",
   "execution_count": 1,
   "metadata": {},
   "outputs": [],
   "source": [
    "import requests"
   ]
  },
  {
   "cell_type": "code",
   "execution_count": 2,
   "metadata": {},
   "outputs": [],
   "source": [
    "r_token = requests.get('https://www.migros.ch/authentication/public/v1/api/guest?authorizationNotRequired=true')"
   ]
  },
  {
   "cell_type": "code",
   "execution_count": 3,
   "metadata": {},
   "outputs": [],
   "source": [
    "token = r_token.headers['leshopch']"
   ]
  },
  {
   "cell_type": "code",
   "execution_count": 4,
   "metadata": {},
   "outputs": [],
   "source": [
    "headers = {'leshopch': token, 'migros-language': 'fr'}\n",
    "\n",
    "payload = {\n",
    "  \"offerFilter\": {\n",
    "    \"storeType\": \"OFFLINE\",\n",
    "    \"region\": \"national\",\n",
    "    \"ongoingOfferDate\": \"2024-07-06T00:00:00\"\n",
    "  },\n",
    "  \"productFilter\": {\n",
    "    \"uids\": [\n",
    "      100042807,\n",
    "      100051389\n",
    "    ]\n",
    "  }\n",
    "}\n",
    "\n",
    "\n",
    "r_search = requests.post('https://www.migros.ch/product-display/public/v4/product-cards', headers=headers, json=payload)"
   ]
  },
  {
   "cell_type": "code",
   "execution_count": 5,
   "metadata": {},
   "outputs": [
    {
     "data": {
      "text/plain": [
       "'Thé froid'"
      ]
     },
     "execution_count": 5,
     "metadata": {},
     "output_type": "execute_result"
    }
   ],
   "source": [
    "r_search.json()[0]['name'] #ok c'est une list de dict pour chaque item"
   ]
  },
  {
   "cell_type": "code",
   "execution_count": 6,
   "metadata": {},
   "outputs": [],
   "source": [
    "product_ids = []\n",
    "\n",
    "with open(\"product_ids.txt\") as f:\n",
    "    for line in f.readlines():\n",
    "        if line[-1] == '\\n':\n",
    "            product_ids.append(line[:-1])\n",
    "        else:\n",
    "            product_ids.append(line)"
   ]
  },
  {
   "cell_type": "code",
   "execution_count": 10,
   "metadata": {},
   "outputs": [
    {
     "data": {
      "text/plain": [
       "['100050511', '100042807']"
      ]
     },
     "execution_count": 10,
     "metadata": {},
     "output_type": "execute_result"
    }
   ],
   "source": [
    "product_ids"
   ]
  },
  {
   "cell_type": "code",
   "execution_count": 8,
   "metadata": {},
   "outputs": [],
   "source": [
    "headers = {'leshopch': token, 'migros-language': 'fr'}\n",
    "\n",
    "payload = {\n",
    "  \"offerFilter\": {\n",
    "    \"storeType\": \"OFFLINE\",\n",
    "    \"region\": \"national\",\n",
    "    \"ongoingOfferDate\": \"2024-07-06T00:00:00\"\n",
    "  },\n",
    "  \"productFilter\": {\n",
    "    \"uids\": [\n",
    "        *product_ids\n",
    "    ]\n",
    "  }\n",
    "}\n",
    "\n",
    "\n",
    "r_search = requests.post('https://www.migros.ch/product-display/public/v4/product-cards', headers=headers, json=payload)"
   ]
  },
  {
   "cell_type": "code",
   "execution_count": 14,
   "metadata": {},
   "outputs": [
    {
     "data": {
      "text/plain": [
       "'Aproz Cristal'"
      ]
     },
     "execution_count": 14,
     "metadata": {},
     "output_type": "execute_result"
    }
   ],
   "source": [
    "r_search.json()[1]['name'] #ok c'est une list de dict pour chaque item"
   ]
  }
 ],
 "metadata": {
  "kernelspec": {
   "display_name": "prixgros-dev",
   "language": "python",
   "name": "python3"
  },
  "language_info": {
   "codemirror_mode": {
    "name": "ipython",
    "version": 3
   },
   "file_extension": ".py",
   "mimetype": "text/x-python",
   "name": "python",
   "nbconvert_exporter": "python",
   "pygments_lexer": "ipython3",
   "version": "3.12.4"
  }
 },
 "nbformat": 4,
 "nbformat_minor": 2
}
